{
 "cells": [
  {
   "cell_type": "code",
   "execution_count": 1,
   "metadata": {
    "scrolled": false
   },
   "outputs": [
    {
     "name": "stdout",
     "output_type": "stream",
     "text": [
      "get briefing statement urls 0 / 3\n",
      "get briefing statement urls 1 / 3\n",
      "get briefing statement urls 2 / 3\n",
      "get briefing statement urls 3 / 3\n",
      "40 urls for all news\n",
      "get briefing statement urls 0 / 3\n",
      "get briefing statement urls 1 / 3\n",
      "get briefing statement urls 2 / 3\n",
      "get briefing statement urls 3 / 3\n",
      "40 urls for all news\n"
     ]
    }
   ],
   "source": [
    "import time\n",
    "import bipartisan_scraper\n",
    "from bipartisan_scraper import get_allblog_urls\n",
    "from bipartisan_scraper import get_allpress_urls\n",
    "from bipartisan_scraper import parse_page\n",
    "\n",
    "blog_urls = get_allblog_urls(begin_page=0, end_page=3, verbose=True)\n",
    "print('%d urls for all news' % len(blog_urls))\n",
    "\n",
    "press_urls = get_allpress_urls(begin_page=0, end_page=3, verbose=True)\n",
    "print('%d urls for all news' % len(press_urls))\n"
   ]
  },
  {
   "cell_type": "code",
   "execution_count": 2,
   "metadata": {
    "scrolled": true
   },
   "outputs": [
    {
     "name": "stdout",
     "output_type": "stream",
     "text": [
<<<<<<< HEAD
      "url : https://bipartisanpolicy.org/blog/previewing-the-2019-state-of-the-union/ ..\n",
      "title : Previewing the 2019 State of the Union ..\n",
      "date : Monday, February 4, 2019 ..\n",
      "author : Jordan LaPierMonday, February 4, 2019 ..\n",
      "content : Ahead of President Donald Trump’s State of the Union address Tuesday night, his first before a divid ..\n",
      "\n",
      "\n",
      "url : https://bipartisanpolicy.org/blog/a-roadmap-for-a-daca-deal/ ..\n",
      "title : A Roadmap for a DACA Deal ..\n",
      "date : Thursday, January 31, 2019 ..\n",
      "author : Theresa Cardinal BrownThursday, January 31, 2019 ..\n",
      "content : The conference committee now in negotiations should consider the deal that has been apparent for ove ..\n",
      "\n",
      "\n",
      "url : https://bipartisanpolicy.org/blog/115th-congress-functioned-poorly-derelict-in-basic-duties/ ..\n",
      "title : Healthy Congress Index: 115th Congress Functioned Poorly, Derelict in Basic Duties ..\n",
      "date : Thursday, January 31, 2019 ..\n",
      "author : Michael ThorningThursday, January 31, 2019 ..\n",
      "content : The Bipartisan Policy Center’s quarterly Healthy Congress Index provides Americans with crucial metr ..\n",
      "\n",
      "\n",
      "url : https://bipartisanpolicy.org/press-release/bpcs-grumet-to-testify-before-senate-energy-and-natural-r ..\n",
      "title : BPC’s Grumet to Testify Before Senate Energy and Natural Resources Committee ..\n",
      "date : Tuesday, February 5, 2019 ..\n",
      "content : Washington, D.C.– Bipartisan Policy Center President Jason Grumet will testify before the Senate Ene ..\n",
      "\n",
      "\n",
      "url : https://bipartisanpolicy.org/press-release/costs-of-shutdown-too-high-fiscal-games-must-end/ ..\n",
      "title : Costs of Shutdown Too High, Fiscal Games Must End ..\n",
      "date : Monday, January 28, 2019 ..\n",
      "content : Washington, D.C.– The cost of the government shutdown was too high, and policymakers should consider ..\n",
      "\n",
      "\n",
      "url : https://bipartisanpolicy.org/press-release/new-report-identifies-barriers-and-policy-options-to-inte ..\n",
      "title : New Report Identifies Barriers and Policy Options to Integrating Clinical and Mental Health ..\n",
      "date : Thursday, January 24, 2019 ..\n",
      "content : Washington, D.C.– A new report released today by the Bipartisan Policy Center examines the major bar ..\n",
=======
      "url : https://bipartisanpolicy.org/blog/breaking-down-bpcs-new-debt-limit-x-date-projection/ ..\n",
      "title : Breaking Down BPC’s New Debt Limit “X Date” Projection ..\n",
      "date : 2019-03-06 00:00:00 ..\n",
      "author :  Shai Akabas, Jack Rametta \n",
      "\n",
      "Wednesday, March 6, 2019\n",
      " ..\n",
      "content : This blog details BPC’s recently updated debt limit “X Date” projection. If you need to get up to sp ..\n",
      "scrap_time : 2019-03-08-09 05:27:28 ..\n",
      "\n",
      "\n",
      "url : https://bipartisanpolicy.org/blog/border-security-and-humanitarian-aid-both-benefit-from-increased-s ..\n",
      "title : Border Security and Humanitarian Aid Both Benefit from Increased Surge Capacity ..\n",
      "date : 2019-03-06 00:00:00 ..\n",
      "author :  Cristobal Ramón, Lora Adams \n",
      "\n",
      "Wednesday, March 6, 2019\n",
      " ..\n",
      "content : The U.S. immigration system has a capacity problem. We continue to rely on border enforcement policy ..\n",
      "scrap_time : 2019-03-08-09 05:27:32 ..\n",
      "\n",
      "\n",
      "url : https://bipartisanpolicy.org/blog/infrastructure-big-idea-1-authorize-a-new-direct-payment-infrastru ..\n",
      "title : Infrastructure Big Idea #1: Authorize a New Direct Payment Infrastructure Bond ..\n",
      "date : 2019-02-26 00:00:00 ..\n",
      "author :  Michele Nellenbach, Andy Winkler, Jake Varn \n",
      "\n",
      "Tuesday, February 26, 2019\n",
      " ..\n",
      "content : This post is the first in a series focused on solving the $2 trillion infrastructure funding gap and ..\n",
      "scrap_time : 2019-03-08-09 05:27:37 ..\n",
      "\n",
      "\n",
      "url : https://bipartisanpolicy.org/press-release/bpc-projects-fall-debt-limit-x-date-amid-heightened-uncer ..\n",
      "title : BPC Projects Fall Debt Limit “X Date” Amid Heightened Uncertainty ..\n",
      "date : 2019-03-04 00:00:00 ..\n",
      "content : \n",
      "Washington, D.C.– After incorporating the latest data, BPC now projects the debt limit “X Date” wil ..\n",
      "scrap_time : 2019-03-08-09 05:27:41 ..\n",
      "\n",
      "\n",
      "url : https://bipartisanpolicy.org/press-release/bpc-launches-new-initiative-to-develop-long-term-solution ..\n",
      "title : BPC Launches New Initiative to Develop Long-Term Solutions to Funding Federal Infrastructure Needs ..\n",
      "date : 2019-02-25 00:00:00 ..\n",
      "content : \n",
      "Washington, D.C.– The Bipartisan Policy Center today announced that former Reps. Bill Shuster (R-PA ..\n",
      "scrap_time : 2019-03-08-09 05:27:45 ..\n",
      "\n",
      "\n",
      "url : https://bipartisanpolicy.org/press-release/bpc-launches-three-new-task-forces-to-improve-voting-expe ..\n",
      "title : BPC Launches Three New Task Forces to Improve Voting Experience ..\n",
      "date : 2019-02-14 00:00:00 ..\n",
      "content : \n",
      "Washington, D.C.– The Bipartisan Policy Center today launches three new task forces to develop reco ..\n",
      "scrap_time : 2019-03-08-09 05:27:48 ..\n",
>>>>>>> final commit
      "\n",
      "\n"
     ]
    }
   ],
   "source": [
    "def pprint(json_object):\n",
    "    for k, v in json_object.items():\n",
    "        print('{} : {} ..'.format(k, str(v)[:100]))\n",
    "    print('\\n')\n",
    "\n",
    "SLEEP = 0.5\n",
    "\n",
    "for url in blog_urls[:3]:\n",
    "    json_object = parse_page(url)\n",
    "    pprint(json_object)\n",
    "    \n",
    "for url in press_urls[:3]:\n",
    "    json_object = parse_page(url)\n",
    "    pprint(json_object)"
   ]
  },
  {
   "cell_type": "code",
   "execution_count": 3,
   "metadata": {},
   "outputs": [
    {
     "name": "stdout",
     "output_type": "stream",
     "text": [
<<<<<<< HEAD
      "[1 / 10] (Monday, February 4, 2019) Previewing the 2019 State of the Union\n",
      "[2 / 10] (Thursday, January 31, 2019) A Roadmap for a DACA Deal\n",
      "[3 / 10] (Thursday, January 31, 2019) Healthy Congress Index: 115th Congress Functioned Poorly, Derelict in Basic Duties\n",
      "[4 / 10] (Thursday, January 31, 2019) Healthy Congress Index Q & A with John Fortier\n",
      "[5 / 10] (Wednesday, January 30, 2019) State and Local Governments Take On Deferred Maintenance\n",
      "[6 / 10] (Tuesday, January 22, 2019) Blockchain Shows Promise for Open Data, but Is Not a Silver Bullet\n",
      "[7 / 10] (Tuesday, January 22, 2019) History Shows the U.S. Doesn’t Do Well at Preparing for Migration Crises\n",
      "[8 / 10] (Thursday, January 17, 2019) GREAT(er) Transformation for Federal Grant Process Focus of House Bill\n",
      "[9 / 10] (Friday, January 11, 2019) The House Has New Rules. Now It Needs Bold Leaders.\n",
      "[10 / 10] (Wednesday, January 9, 2019) Where Will the Next Migrant Flow Come From? A Look at Venezuela and Nicaragua\n"
=======
      "[1 / 10] (2019-03-06 00:00:00) Breaking Down BPC’s New Debt Limit “X Date” Projection\n",
      "[2 / 10] (2019-03-06 00:00:00) Border Security and Humanitarian Aid Both Benefit from Increased Surge Capacity\n",
      "[3 / 10] (2019-02-26 00:00:00) Infrastructure Big Idea #1: Authorize a New Direct Payment Infrastructure Bond\n",
      "[4 / 10] (2019-02-26 00:00:00) Six Big Ideas for Infrastructure\n",
      "[5 / 10] (2019-02-26 00:00:00) Home-based Child Care: How Does it Fit in the Early Childhood Ecosystem\n",
      "[6 / 10] (2019-02-22 00:00:00) Designing LIHTC Developments to Improve Health Outcomes\n",
      "[7 / 10] (2019-02-22 00:00:00) Using LIHTC to Expand Access to Opportunity \n",
      "[8 / 10] (2019-02-22 00:00:00) Realizing LIHTC’s Potential\n",
      "[9 / 10] (2019-02-21 00:00:00) Evidence Law Enacted, What Next?\n",
      "[10 / 10] (2019-02-14 00:00:00) Early Learning Facilities Matter: Moving Beyond a Culture of Low Expectations\n"
>>>>>>> final commit
     ]
    }
   ],
   "source": [
    "from bipartisan_scraper import yield_latest_allblog\n",
    "from bipartisan_scraper import yield_latest_allpress\n",
    "\n",
    "begin_date = '2018-07-01'\n",
    "max_num = 10\n",
    "sleep = 1.0\n",
    "\n",
    "\n",
    "for i, json_obj in enumerate(yield_latest_allblog(begin_date, max_num, sleep)):\n",
    "    title = json_obj['title']\n",
    "    time = json_obj['date']\n",
    "    print('[{} / {}] ({}) {}'.format(i+1, max_num, time, title))"
   ]
<<<<<<< HEAD
  },
  {
   "cell_type": "code",
   "execution_count": 4,
   "metadata": {
    "scrolled": true
   },
   "outputs": [
    {
     "name": "stdout",
     "output_type": "stream",
     "text": [
      "[1 / 10] (Tuesday, February 5, 2019) BPC’s Grumet to Testify Before Senate Energy and Natural Resources Committee\n",
      "[2 / 10] (Monday, January 28, 2019) Costs of Shutdown Too High, Fiscal Games Must End\n",
      "[3 / 10] (Thursday, January 24, 2019) New Report Identifies Barriers and Policy Options to Integrating Clinical and Mental Health\n",
      "[4 / 10] (Saturday, January 19, 2019) Grumet: We Must Seize this Opportunity in the Immigration Border Discussion\n",
      "[5 / 10] (Thursday, January 17, 2019) BPC Statement on Michigan Joining the ERIC Voter Registration Program\n",
      "[6 / 10] (Wednesday, January 16, 2019) New Report Explores Early Head Start-Child Care Partnerships\n",
      "[7 / 10] (Saturday, December 22, 2018) Evidence Legislation Passed by Congress “Enormous Step” for Effective Policymaking\n",
      "[8 / 10] (Wednesday, December 19, 2018) Bipartisan Recommendations for Evidence-based Policymaking Advance Through Senate\n",
      "[9 / 10] (Thursday, December 13, 2018) Rising U.S. Deficits Continue in New Fiscal Year as Shutdown Looms\n",
      "[10 / 10] (Thursday, December 13, 2018) New Report Ranks States on Efficient Use of Federal Early Childhood Funds\n"
     ]
    }
   ],
   "source": [
    "from bipartisan_scraper import yield_latest_allblog\n",
    "from bipartisan_scraper import yield_latest_allpress\n",
    "\n",
    "begin_date = '2018-07-01'\n",
    "max_num = 10\n",
    "sleep = 1.0\n",
    "\n",
    "\n",
    "for i, json_obj in enumerate(yield_latest_allpress(begin_date, max_num, sleep)):\n",
    "    title = json_obj['title']\n",
    "    time = json_obj['date']\n",
    "    print('[{} / {}] ({}) {}'.format(i+1, max_num, time, title))"
   ]
=======
>>>>>>> final commit
  }
 ],
 "metadata": {
  "kernelspec": {
   "display_name": "Python 3",
   "language": "python",
   "name": "python3"
  },
  "language_info": {
   "codemirror_mode": {
    "name": "ipython",
    "version": 3
   },
   "file_extension": ".py",
   "mimetype": "text/x-python",
   "name": "python",
   "nbconvert_exporter": "python",
   "pygments_lexer": "ipython3",
   "version": "3.7.1"
  },
  "varInspector": {
   "cols": {
    "lenName": 16,
    "lenType": 16,
    "lenVar": 40
   },
   "kernels_config": {
    "python": {
     "delete_cmd_postfix": "",
     "delete_cmd_prefix": "del ",
     "library": "var_list.py",
     "varRefreshCmd": "print(var_dic_list())"
    },
    "r": {
     "delete_cmd_postfix": ") ",
     "delete_cmd_prefix": "rm(",
     "library": "var_list.r",
     "varRefreshCmd": "cat(var_dic_list()) "
    }
   },
   "types_to_exclude": [
    "module",
    "function",
    "builtin_function_or_method",
    "instance",
    "_Feature"
   ],
   "window_display": true
  }
 },
 "nbformat": 4,
 "nbformat_minor": 2
}
