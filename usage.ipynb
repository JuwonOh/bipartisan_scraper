{
 "cells": [
  {
   "cell_type": "code",
   "execution_count": 2,
   "metadata": {
    "scrolled": false
   },
   "outputs": [
    {
     "name": "stdout",
     "output_type": "stream",
     "text": [
      "get briefing statement urls 0 / 3\n",
      "get briefing statement urls 1 / 3\n",
      "get briefing statement urls 2 / 3\n",
      "get briefing statement urls 3 / 3\n",
      "40 urls for all news\n"
     ]
    }
   ],
   "source": [
    "import time\n",
    "import bipartisan_scraper\n",
    "from bipartisan_scraper import get_allblog_urls\n",
    "from bipartisan_scraper import parse_page\n",
    "\n",
    "blog_urls = get_allblog_urls(begin_page=0, end_page=3, verbose=True)\n",
    "print('%d urls for all news' % len(blog_urls))\n"
   ]
  },
  {
   "cell_type": "code",
   "execution_count": 3,
   "metadata": {
    "scrolled": true
   },
   "outputs": [
    {
     "name": "stdout",
     "output_type": "stream",
     "text": [
      "title : The Goal is Workable Bipartisanship ..\n",
      "time : Monday, August 6, 2018 ..\n",
      "content : Many realities contribute to Congress’ inability to get things done, and significant among them is c ..\n",
      "url : https://bipartisanpolicy.org/blog/the-goal-is-workable-bipartisanship/ ..\n",
      "author : Joshua Ferrer ..\n",
      "scrap_time : 2019-01-29-04 11:38:38 ..\n",
      "\n",
      "\n",
      "title : Timing of Iran Decision Hints at Trump Strategy on North Korea ..\n",
      "time : Wednesday, May 9, 2018 ..\n",
      "content : The significance of the president’s address on the Iran nuclear deal lies not so much in what he sai ..\n",
      "url : https://bipartisanpolicy.org/blog/timing-of-iran-message-hints-at-trump-policy-strategy-on-north-kor ..\n",
      "author : Blaise Misztal ..\n",
      "scrap_time : 2019-01-29-04 11:38:39 ..\n",
      "\n",
      "\n",
      "title : U.S. Colleges are Losing International Students: Why It’s Happening and Why It’s a Problem ..\n",
      "time : Thursday, March 1, 2018 ..\n",
      "content : International enrollment at American colleges and universities declined last year for the first time ..\n",
      "url : https://bipartisanpolicy.org/blog/u-s-colleges-are-losing-international-students/ ..\n",
      "author : Jake Varn ..\n",
      "scrap_time : 2019-01-29-04 11:38:40 ..\n",
      "\n",
      "\n"
     ]
    }
   ],
   "source": [
    "def pprint(json_object):\n",
    "    for k, v in json_object.items():\n",
    "        print('{} : {} ..'.format(k, str(v)[:100]))\n",
    "    print('\\n')\n",
    "\n",
    "SLEEP = 0.5\n",
    "\n",
    "for url in blog_urls[:3]:\n",
    "    json_object = parse_page(url)\n",
    "    pprint(json_object)"
   ]
  },
  {
   "cell_type": "code",
   "execution_count": 4,
   "metadata": {
    "scrolled": true
   },
   "outputs": [
    {
     "name": "stdout",
     "output_type": "stream",
     "text": [
      "[1 / 50] (Monday, August 6, 2018) The Goal is Workable Bipartisanship\n",
      "Stop scrapping. 1 / 50 news was scrapped\n",
      "The oldest news has been created after 2018-07-01\n"
     ]
    }
   ],
   "source": [
    "from bipartisan_scraper import yield_latest_allblog\n",
    "\n",
    "begin_date = '2018-07-01'\n",
    "max_num = 50\n",
    "sleep = 1.0\n",
    "\n",
    "for i, json_obj in enumerate(yield_latest_allblog(begin_date, max_num, sleep)):\n",
    "    title = json_obj['title']\n",
    "    time = json_obj['time']\n",
    "    print('[{} / {}] ({}) {}'.format(i+1, max_num, time, title))"
   ]
  }
 ],
 "metadata": {
  "kernelspec": {
   "display_name": "Python 3",
   "language": "python",
   "name": "python3"
  },
  "language_info": {
   "codemirror_mode": {
    "name": "ipython",
    "version": 3
   },
   "file_extension": ".py",
   "mimetype": "text/x-python",
   "name": "python",
   "nbconvert_exporter": "python",
   "pygments_lexer": "ipython3",
   "version": "3.6.5"
  },
  "varInspector": {
   "cols": {
    "lenName": 16,
    "lenType": 16,
    "lenVar": 40
   },
   "kernels_config": {
    "python": {
     "delete_cmd_postfix": "",
     "delete_cmd_prefix": "del ",
     "library": "var_list.py",
     "varRefreshCmd": "print(var_dic_list())"
    },
    "r": {
     "delete_cmd_postfix": ") ",
     "delete_cmd_prefix": "rm(",
     "library": "var_list.r",
     "varRefreshCmd": "cat(var_dic_list()) "
    }
   },
   "types_to_exclude": [
    "module",
    "function",
    "builtin_function_or_method",
    "instance",
    "_Feature"
   ],
   "window_display": true
  }
 },
 "nbformat": 4,
 "nbformat_minor": 2
}
